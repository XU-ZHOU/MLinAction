{
 "cells": [
  {
   "cell_type": "code",
   "execution_count": 2,
   "metadata": {},
   "outputs": [],
   "source": [
    "def smoSimple(dataMatIn,classLabels,C,toler,maxIter):  #dataMatIn是特征集合，classLabels是类别标签，C是松弛变量，toler是容错率，maxIter是最大循环次数\n",
    "    dataMatrix = mat(dataMatIn)\n",
    "    laebelMat = mat(classLabels).transpose()  #矩阵转置\n",
    "    m,n = shape(dataMatrix)\n",
    "    b = 0\n",
    "    alphas = mat(zeros((m,1)))\n",
    "    iter = 0\n",
    "    while(iter<maxIter):\n",
    "        alphaPairsChanged = 0\n",
    "        for i in ranage(m):\n",
    "            fXi = float(multiply(alphas,labelMat).T*(dataMatrix*dataMatrix[i,:].T))+b\n",
    "            Ei = fXi - float(labelMat[i])  #预测结果和真实结果对比，计算误差\n",
    "            if ((labelMat[i]*Ei < -toler) and (alphas[i] < C)) or ((alphaMat[i]*Ei > toler) and (alphas[i] > 0)):\n",
    "                j = selectJrand(i,m) #如果满足优化条件就随机选取一个非i的点进行优化比较\n",
    "                fXj = float(multiply(alphas, labelMat).T*(dataMatrix*dataMatrix[j, :].T)) + b  #预测j的结果\n",
    "                Ej = fXj - float(labelMat[j])\n",
    "                alphaIold = alphas[i].copy()\n",
    "                alphaJold = alphas[j].copy()\n",
    "\n",
    "                if (labelMat[i] != labelMat[j]):\n",
    "                    L = max(0,alphas[j] - alphas[j])\n",
    "                    H = min(C,C+lphas[j]-alphas[i])\n",
    "                else:\n",
    "                    L = max(0,alphas[j] + alphas[i] - C)\n",
    "                    H = min(C,alphas[j] + alphas[i])\n",
    "                if L==H:  #相同就不优化\n",
    "                    print(\"L==H\")\n",
    "                    continue\n",
    "                eta = 2.0*dataMatrix[i,:]*dataMatrix[j,:].T - dataMatrix[i,:]*dataMatrix[i,:].T - dataMatrix[j, :]*dataMatrix[j, :].T\n",
    "                if eta >= 0:  #eta是最优修改量\n",
    "                    print(\"eta>=0\")\n",
    "                    continue\n",
    "                alphas[j] -= labelMat[j]*(Ei - Ej)/eta  #计算一个新的alphas值\n",
    "                alphas[j] = clipAlpha(alphas[j],H,L)  #使用辅助函数对L和H进行调整\n",
    "                if (abs(alphas[j] - alphaJold) < 0.00001):\n",
    "                    print(\"j not moving enough\")\n",
    "                    continue\n",
    "                alphas[i] += labelMat[j]*labelMat[i]*(alphaJold - alphas[j])\n",
    "                b1 = b - Ei- labelMat[i]*(alphas[i]-alphaIold)*dataMatrix[i, :]*dataMatrix[i, :].T - labelMat[j]*(alphas[j]-alphaJold)*dataMatrix[i, :]*dataMatrix[j, :].T\n",
    "                b2 = b - Ej- labelMat[i]*(alphas[i]-alphaIold)*dataMatrix[i, :]*dataMatrix[j, :].T - labelMat[j]*(alphas[j]-alphaJold)*dataMatrix[j, :]*dataMatrix[j, :].T\n",
    "                if (0 < alphas[i]) and (C > alphas[i]):\n",
    "                    b = b1\n",
    "                elif (0 < alphas[j]) and (C > alphas[j]):\n",
    "                    b = b2\n",
    "                else:\n",
    "                    b = (b1 + b2)/2.0\n",
    "                alphaPairsChanged += 1\n",
    "                print(\"iter: %d i:%d, pairs changed %d\" % (iter, i, alphaPairsChanged))\n",
    "        if (alphaPairsChanged == 0):\n",
    "            iter += 1\n",
    "        else:\n",
    "            iter = 0\n",
    "        print(\"iteration number: %d\" % iter)\n",
    "    return b, alphas"
   ]
  },
  {
   "cell_type": "code",
   "execution_count": null,
   "metadata": {},
   "outputs": [],
   "source": []
  }
 ],
 "metadata": {
  "kernelspec": {
   "display_name": "Python 3",
   "language": "python",
   "name": "python3"
  },
  "language_info": {
   "codemirror_mode": {
    "name": "ipython",
    "version": 3
   },
   "file_extension": ".py",
   "mimetype": "text/x-python",
   "name": "python",
   "nbconvert_exporter": "python",
   "pygments_lexer": "ipython3",
   "version": "3.6.5"
  }
 },
 "nbformat": 4,
 "nbformat_minor": 2
}
