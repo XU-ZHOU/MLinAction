{
 "cells": [
  {
   "cell_type": "code",
   "execution_count": 1,
   "metadata": {},
   "outputs": [],
   "source": [
    "#准备数据，类别标签是1，-1\n",
    "def loadDataSet(filename):\n",
    "    numFeat = len(open(filename).readline().split('\\t'))\n",
    "    dataArr = []\n",
    "    labelArr = []\n",
    "    fr = open(filename)\n",
    "    for line in fr.readlines():\n",
    "        lineArr = []\n",
    "        curLine = line.strip().split('\\t')\n",
    "        for i in range(numFeat-1):\n",
    "            lineArr.append(float(curLine[i]))\n",
    "        dataArr.append(lineArr)\n",
    "        labelArr.append(folat(curLine[-1]))\n",
    "    return dataArr,labelArr"
   ]
  },
  {
   "cell_type": "code",
   "execution_count": 3,
   "metadata": {},
   "outputs": [],
   "source": [
    "#训练算法\n",
    "def adaBoostTrainDS(dataArr,labelArr,numIt=40):\n",
    "    weakClassArr = []\n",
    "    m = shape(dataArr)[0]\n",
    "    D = mat(ones((m,1))/m)\n",
    "    aggClassEst = mat(zeros((m,1)))\n",
    "    for i in range(numIt):\n",
    "        alpha = float(0.5*log((1.0-error)/max(error,1e-16)))\n",
    "        bestStump['alpha'] = alpha\n",
    "        weakClassArr.append(bestStump)\n",
    "        print (\"alpha=%s, classEst=%s, bestStump=%s, error=%s \" % (alpha, classEst.T, bestStump, error))\n",
    "        expon = multiply(-1*alpha*mat(labelArr).T, classEst)\n",
    "        print ('(-1取反)预测值expon=', expon.T)\n",
    "        D = multiply(D, exp(expon))\n",
    "        D = D/D.sum()\n",
    "        print ('当前的分类结果：', alpha*classEst.T)\n",
    "        aggClassEst += alpha*classEst\n",
    "        print (\"叠加后的分类结果aggClassEst: \", aggClassEst.T)\n",
    "        aggErrors = multiply(sign(aggClassEst) != mat(labelArr).T, ones((m, 1)))\n",
    "        errorRate = aggErrors.sum()/m\n",
    "        if errorRate == 0.0:\n",
    "            break\n",
    "    return weakClassArr, aggClassEst"
   ]
  },
  {
   "cell_type": "code",
   "execution_count": 4,
   "metadata": {},
   "outputs": [],
   "source": [
    "#测试算法\n",
    "def adaClassify(datToClass, classifierArr):\n",
    "    dataMat = mat(datToClass)\n",
    "    m = shape(dataMat)[0]\n",
    "    aggClassEst = mat(zeros((m, 1)))\n",
    "    for i in range(len(classifierArr)):\n",
    "        classEst = stumpClassify(dataMat, classifierArr[i]['dim'], classifierArr[i]['thresh'], classifierArr[i]['ineq'])\n",
    "        aggClassEst += classifierArr[i]['alpha']*classEst\n",
    "    return sign(aggClassEst)"
   ]
  },
  {
   "cell_type": "code",
   "execution_count": null,
   "metadata": {},
   "outputs": [],
   "source": [
    "# 马疝病数据集\n",
    "# 训练集合\n",
    "dataArr, labelArr = loadDataSet(\"H:/data/machinelearninginaction-master/Ch07/horseColicTraining2.txt\")\n",
    "weakClassArr, aggClassEst = adaBoostTrainDS(dataArr, labelArr, 40)\n",
    "print（weakClassArr）\n",
    "dataArrTest, labelArrTest = loadDataSet(\"H:/data/machinelearninginaction-master/Ch07/horseColicTest2.txt\")\n",
    "m = shape(dataArrTest)[0]\n",
    "predicting10 = adaClassify(dataArrTest, weakClassArr)\n",
    "errArr = mat(ones((m, 1)))\n",
    "print （m, errArr[predicting10 != mat(labelArrTest).T].sum(), errArr[predicting10 != mat(labelArrTest).T].sum()/m）"
   ]
  }
 ],
 "metadata": {
  "kernelspec": {
   "display_name": "Python 3",
   "language": "python",
   "name": "python3"
  },
  "language_info": {
   "codemirror_mode": {
    "name": "ipython",
    "version": 3
   },
   "file_extension": ".py",
   "mimetype": "text/x-python",
   "name": "python",
   "nbconvert_exporter": "python",
   "pygments_lexer": "ipython3",
   "version": "3.6.5"
  }
 },
 "nbformat": 4,
 "nbformat_minor": 2
}
